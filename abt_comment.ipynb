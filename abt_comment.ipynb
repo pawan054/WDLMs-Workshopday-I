{
  "nbformat": 4,
  "nbformat_minor": 0,
  "metadata": {
    "colab": {
      "provenance": [],
      "authorship_tag": "ABX9TyOOUbRbYd9yxR6RgN1FQ/mp",
      "include_colab_link": true
    },
    "kernelspec": {
      "name": "python3",
      "display_name": "Python 3"
    },
    "language_info": {
      "name": "python"
    }
  },
  "cells": [
    {
      "cell_type": "markdown",
      "metadata": {
        "id": "view-in-github",
        "colab_type": "text"
      },
      "source": [
        "<a href=\"https://colab.research.google.com/github/pawan054/WDLMs-Workshopday-I/blob/main/abt_comment.ipynb\" target=\"_parent\"><img src=\"https://colab.research.google.com/assets/colab-badge.svg\" alt=\"Open In Colab\"/></a>"
      ]
    },
    {
      "cell_type": "markdown",
      "source": [
        "print(\"Hello world\")"
      ],
      "metadata": {
        "id": "8ajNYOti8hpZ"
      }
    },
    {
      "cell_type": "code",
      "source": [
        "#this is single line comment\n",
        "'''\n",
        "These are multilines comments\n",
        "python supports single line\n",
        "as well as\n",
        "multiline comments\n",
        "single line comments start with has\n",
        "but multiline comments are written with in\n",
        "triple single or triple doble quaotation\n",
        "'''\n",
        "print(\"Hello : pawan\")\n",
        "print(\"what is your mail ID?\")"
      ],
      "metadata": {
        "colab": {
          "base_uri": "https://localhost:8080/"
        },
        "id": "90DL0wY29Vgp",
        "outputId": "9580229e-c678-4836-c8c7-455c5f3a73c1"
      },
      "execution_count": null,
      "outputs": [
        {
          "output_type": "stream",
          "name": "stdout",
          "text": [
            "Hello : pawan\n",
            "what is your mail ID?\n"
          ]
        }
      ]
    }
  ]
}