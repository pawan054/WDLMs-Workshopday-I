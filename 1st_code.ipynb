{
  "nbformat": 4,
  "nbformat_minor": 0,
  "metadata": {
    "colab": {
      "provenance": [],
      "authorship_tag": "ABX9TyM6tYMHR/kUenyrP3uvQ3Zx",
      "include_colab_link": true
    },
    "kernelspec": {
      "name": "python3",
      "display_name": "Python 3"
    },
    "language_info": {
      "name": "python"
    }
  },
  "cells": [
    {
      "cell_type": "markdown",
      "metadata": {
        "id": "view-in-github",
        "colab_type": "text"
      },
      "source": [
        "<a href=\"https://colab.research.google.com/github/pawan054/WDLMs-Workshopday-I/blob/main/1st_code.ipynb\" target=\"_parent\"><img src=\"https://colab.research.google.com/assets/colab-badge.svg\" alt=\"Open In Colab\"/></a>"
      ]
    },
    {
      "cell_type": "markdown",
      "source": [
        "# first program"
      ],
      "metadata": {
        "id": "-qCswH5Sla4G"
      }
    },
    {
      "cell_type": "code",
      "execution_count": null,
      "metadata": {
        "colab": {
          "base_uri": "https://localhost:8080/"
        },
        "id": "VlYcDysXToDX",
        "outputId": "99453a58-ab91-42f2-cfbf-a10e934fde11"
      },
      "outputs": [
        {
          "output_type": "stream",
          "name": "stdout",
          "text": [
            "Hello\n"
          ]
        }
      ],
      "source": [
        "print ('Hello')"
      ]
    },
    {
      "cell_type": "code",
      "source": [
        "name = 'pawan joshi'\n",
        "email = 'pjoshi2357@gmail.com'\n",
        "print(\"Name:\",name)\n",
        "print(\"Email:\",email)"
      ],
      "metadata": {
        "id": "bc-80ZqvT0p9",
        "colab": {
          "base_uri": "https://localhost:8080/"
        },
        "outputId": "49b147c2-56cc-4eb1-8e7b-d6d2e7f62afd"
      },
      "execution_count": null,
      "outputs": [
        {
          "output_type": "stream",
          "name": "stdout",
          "text": [
            "Name: pawan joshi\n",
            "Email: pjoshi2357@gmail.com\n"
          ]
        }
      ]
    }
  ]
}