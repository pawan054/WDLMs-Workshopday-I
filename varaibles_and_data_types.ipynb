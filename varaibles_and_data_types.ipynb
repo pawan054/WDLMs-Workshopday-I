{
  "nbformat": 4,
  "nbformat_minor": 0,
  "metadata": {
    "colab": {
      "provenance": [],
      "authorship_tag": "ABX9TyNuzjFqz1mss9ec1K7/wQsn",
      "include_colab_link": true
    },
    "kernelspec": {
      "name": "python3",
      "display_name": "Python 3"
    },
    "language_info": {
      "name": "python"
    }
  },
  "cells": [
    {
      "cell_type": "markdown",
      "metadata": {
        "id": "view-in-github",
        "colab_type": "text"
      },
      "source": [
        "<a href=\"https://colab.research.google.com/github/pawan054/WDLMs-Workshopday-I/blob/main/varaibles_and_data_types.ipynb\" target=\"_parent\"><img src=\"https://colab.research.google.com/assets/colab-badge.svg\" alt=\"Open In Colab\"/></a>"
      ]
    },
    {
      "cell_type": "markdown",
      "source": [
        "# Varaibles\n",
        "\n",
        "**Variables are memory storage in which value of data is stored and their value are changing. Varaibles in python are associted with differrent data types such as int, float, complex, logic**"
      ],
      "metadata": {
        "id": "CMMHYos2fF_1"
      }
    },
    {
      "cell_type": "code",
      "execution_count": null,
      "metadata": {
        "colab": {
          "base_uri": "https://localhost:8080/"
        },
        "id": "4_XxkecNe8Ly",
        "outputId": "b5518a99-e856-46b2-ce88-a55ce5fab3e3"
      },
      "outputs": [
        {
          "output_type": "stream",
          "name": "stdout",
          "text": [
            "45\n",
            "male\n",
            "True\n",
            "2345.67$\n",
            "['wife', 'son', 'daughter', 'mother']\n",
            "3.14j\n",
            "('english', 'math', 'physics')\n",
            "range(0, 10)\n",
            "{'job': 'teaching', 'duration': 10, 'place': 'Kathmandu'}\n",
            "{4, 5, 6, 7, 8, 'visitor', 'footballer'}\n",
            "frozenset({'rice', 'vegetables', 'chapati'})\n"
          ]
        },
        {
          "output_type": "execute_result",
          "data": {
            "text/plain": [
              "frozenset"
            ]
          },
          "metadata": {},
          "execution_count": 25
        }
      ],
      "source": [
        "age = 45\n",
        "print(age)\n",
        "gender = \"male\"\n",
        "print(gender)\n",
        "married = True\n",
        "print(married)\n",
        "income = 2345.67\n",
        "print(f\"{income}$\")\n",
        "family = ['wife', 'son', 'daughter','mother']\n",
        "print(family)\n",
        "sale = 3.14j\n",
        "print(sale)\n",
        "education = ('english','math', 'physics')\n",
        "print(education)\n",
        "fame = range(10)\n",
        "print(fame)\n",
        "detail= {'job': 'teaching', 'duration': 10, 'place': 'Kathmandu'}\n",
        "print(detail)\n",
        "type(detail)\n",
        "extra = {4,5,6,7,8,'footballer','visitor'}\n",
        "print(extra)\n",
        "type(extra)\n",
        "food = frozenset({'rice', 'chapati','vegetables'})\n",
        "print(food)\n",
        "type(food)"
      ]
    },
    {
      "cell_type": "code",
      "source": [
        "age = 45\n",
        "type(age)"
      ],
      "metadata": {
        "colab": {
          "base_uri": "https://localhost:8080/"
        },
        "id": "2vUiXyadokn1",
        "outputId": "e84a0c61-adde-4eb8-afda-94643c224647"
      },
      "execution_count": null,
      "outputs": [
        {
          "output_type": "execute_result",
          "data": {
            "text/plain": [
              "int"
            ]
          },
          "metadata": {},
          "execution_count": 2
        }
      ]
    },
    {
      "cell_type": "code",
      "source": [
        "gender = \"male\"\n",
        "type(gender)"
      ],
      "metadata": {
        "colab": {
          "base_uri": "https://localhost:8080/"
        },
        "id": "6jfw9mbvooaC",
        "outputId": "0d86cd5e-92f8-413f-fa58-0cdaedb4a037"
      },
      "execution_count": null,
      "outputs": [
        {
          "output_type": "execute_result",
          "data": {
            "text/plain": [
              "str"
            ]
          },
          "metadata": {},
          "execution_count": 3
        }
      ]
    },
    {
      "cell_type": "code",
      "source": [
        "married = True\n",
        "type(married)"
      ],
      "metadata": {
        "colab": {
          "base_uri": "https://localhost:8080/"
        },
        "id": "OGojeHL7orXn",
        "outputId": "0b2adb79-a848-4e79-f746-ceb109b6dd0e"
      },
      "execution_count": null,
      "outputs": [
        {
          "output_type": "execute_result",
          "data": {
            "text/plain": [
              "bool"
            ]
          },
          "metadata": {},
          "execution_count": 4
        }
      ]
    },
    {
      "cell_type": "code",
      "source": [
        "sale = 3.14j\n",
        "type(sale)"
      ],
      "metadata": {
        "colab": {
          "base_uri": "https://localhost:8080/"
        },
        "id": "Uyw7HohspSi7",
        "outputId": "0c37be41-4d29-41ec-fb5b-e92bc865637b"
      },
      "execution_count": null,
      "outputs": [
        {
          "output_type": "execute_result",
          "data": {
            "text/plain": [
              "complex"
            ]
          },
          "metadata": {},
          "execution_count": 10
        }
      ]
    },
    {
      "cell_type": "code",
      "source": [
        "income = 2345.67\n",
        "type(income)"
      ],
      "metadata": {
        "colab": {
          "base_uri": "https://localhost:8080/"
        },
        "id": "9-uD3uUmosuY",
        "outputId": "17fcc26a-b212-4dc0-af12-814c0b9b1f67"
      },
      "execution_count": null,
      "outputs": [
        {
          "output_type": "execute_result",
          "data": {
            "text/plain": [
              "float"
            ]
          },
          "metadata": {},
          "execution_count": 6
        }
      ]
    },
    {
      "cell_type": "code",
      "source": [
        "income = 2345.67\n",
        "print(\"find the difference ?\")\n",
        "type(f\"{income}$\")"
      ],
      "metadata": {
        "colab": {
          "base_uri": "https://localhost:8080/"
        },
        "id": "8ey6T97Zo9qV",
        "outputId": "3bebd312-185f-4678-e535-bf2d40a306f0"
      },
      "execution_count": null,
      "outputs": [
        {
          "output_type": "stream",
          "name": "stdout",
          "text": [
            "find the difference ?\n"
          ]
        },
        {
          "output_type": "execute_result",
          "data": {
            "text/plain": [
              "str"
            ]
          },
          "metadata": {},
          "execution_count": 8
        }
      ]
    },
    {
      "cell_type": "code",
      "source": [
        "family = ['wife', 'son', 'daughter','mother']\n",
        "type(family)"
      ],
      "metadata": {
        "colab": {
          "base_uri": "https://localhost:8080/"
        },
        "id": "kAmpAfvtpMAo",
        "outputId": "4ff4a6ff-3f9a-4963-cc64-6d2de98ba6d1"
      },
      "execution_count": null,
      "outputs": [
        {
          "output_type": "execute_result",
          "data": {
            "text/plain": [
              "list"
            ]
          },
          "metadata": {},
          "execution_count": 9
        }
      ]
    },
    {
      "cell_type": "code",
      "source": [
        "education = ('english','math', 'physics')\n",
        "type(education)"
      ],
      "metadata": {
        "colab": {
          "base_uri": "https://localhost:8080/"
        },
        "id": "Jtvw5B35pV7g",
        "outputId": "94371ded-5f72-41c7-a688-5773c6ede838"
      },
      "execution_count": null,
      "outputs": [
        {
          "output_type": "execute_result",
          "data": {
            "text/plain": [
              "tuple"
            ]
          },
          "metadata": {},
          "execution_count": 11
        }
      ]
    },
    {
      "cell_type": "code",
      "source": [
        "fame = range(10)\n",
        "type(fame)"
      ],
      "metadata": {
        "colab": {
          "base_uri": "https://localhost:8080/"
        },
        "id": "3FVs5bi4pZ40",
        "outputId": "2fd45ed6-29d6-49be-8bc7-1fba00104a5a"
      },
      "execution_count": null,
      "outputs": [
        {
          "output_type": "execute_result",
          "data": {
            "text/plain": [
              "range"
            ]
          },
          "metadata": {},
          "execution_count": 12
        }
      ]
    },
    {
      "cell_type": "code",
      "source": [
        "detail= {'job': 'teaching', 'duration': 10, 'place': 'Kathmandu'}\n",
        "type(detail)"
      ],
      "metadata": {
        "colab": {
          "base_uri": "https://localhost:8080/"
        },
        "id": "22xePSzfpeBn",
        "outputId": "ad6169e5-5c33-4fb9-b78b-7ad0bc1b78c8"
      },
      "execution_count": null,
      "outputs": [
        {
          "output_type": "execute_result",
          "data": {
            "text/plain": [
              "dict"
            ]
          },
          "metadata": {},
          "execution_count": 14
        }
      ]
    },
    {
      "cell_type": "code",
      "source": [
        "extra = {4,5,6,7,8,'footballer','visitor'}\n",
        "type(extra)"
      ],
      "metadata": {
        "colab": {
          "base_uri": "https://localhost:8080/"
        },
        "id": "EUYJQOPuphLD",
        "outputId": "53d3b7f5-1c1d-4cd8-b4fc-3eb2278b14b3"
      },
      "execution_count": null,
      "outputs": [
        {
          "output_type": "execute_result",
          "data": {
            "text/plain": [
              "set"
            ]
          },
          "metadata": {},
          "execution_count": 15
        }
      ]
    },
    {
      "cell_type": "code",
      "execution_count": null,
      "metadata": {
        "colab": {
          "base_uri": "https://localhost:8080/"
        },
        "outputId": "545d1c75-16d0-4364-f680-7fd6ff06ff26",
        "id": "DaN50mNyoBV-"
      },
      "outputs": [
        {
          "output_type": "execute_result",
          "data": {
            "text/plain": [
              "frozenset"
            ]
          },
          "metadata": {},
          "execution_count": 17
        }
      ],
      "source": [
        "food = frozenset({'rice', 'chapati','vegetables'})\n",
        "type(food)"
      ]
    },
    {
      "cell_type": "markdown",
      "source": [
        "# Data types\n",
        "Hence, python supports following\n",
        "data types\n",
        "\n",
        "1. Text Type     : \tstr\n",
        "2. Numeric Types : \tint, float, complex\n",
        "3. Sequence Types: \tlist, tuple, range\n",
        "4. Mapping Type  : \tdict\n",
        "5. Set Types     : \tset, frozenset\n",
        "6. Boolean Type  : \tbool\n",
        "7. Binary Types  : \tbytes, bytearray,"
      ],
      "metadata": {
        "id": "V1FVN35IxdWA"
      }
    },
    {
      "cell_type": "markdown",
      "source": [
        "Why variables so called variables?"
      ],
      "metadata": {
        "id": "gT3dloGufEBB"
      }
    },
    {
      "cell_type": "code",
      "source": [
        "# Changing the value of Variables\n",
        "a = 2.5\n",
        "b = 24\n",
        "c = 2.5 * b #float(b)\n",
        "print('product of',a, 'and',b,'=',c)"
      ],
      "metadata": {
        "colab": {
          "base_uri": "https://localhost:8080/"
        },
        "id": "7DgDGDXih4l1",
        "outputId": "3877f829-8e78-45ea-d0a1-02601ec406f0"
      },
      "execution_count": null,
      "outputs": [
        {
          "output_type": "stream",
          "name": "stdout",
          "text": [
            "product of 2.5 and 24 = 60.0\n"
          ]
        }
      ]
    },
    {
      "cell_type": "code",
      "source": [
        "# now lets change the value of Variables\n",
        "a = 25\n",
        "b = 34\n",
        "c = 2.5 * b #float(b)\n",
        "print('product of',a, 'and',b,'=',c)"
      ],
      "metadata": {
        "colab": {
          "base_uri": "https://localhost:8080/"
        },
        "outputId": "7658df9d-77fa-4798-a500-aedcb87d6e12",
        "id": "zSxb0MGzqAcQ"
      },
      "execution_count": null,
      "outputs": [
        {
          "output_type": "stream",
          "name": "stdout",
          "text": [
            "product of 25 and 34 = 85.0\n"
          ]
        }
      ]
    },
    {
      "cell_type": "markdown",
      "source": [
        "#Literals\n",
        "raw or fixed values of the data given to the varaibles or constant. Python supports:\n",
        "1. Numerical literals\n",
        "2. Strings literals\n",
        "3. Boolean literals\n",
        "4. Special literals\n"
      ],
      "metadata": {
        "id": "RY_-Bn0l0IHo"
      }
    },
    {
      "cell_type": "code",
      "source": [
        "# Numerical literals\n",
        "num1 = 42\n",
        "num2 = -3.14\n",
        "num3 = 2 + 3j\n",
        "\n",
        "# String literals\n",
        "str1 = 'hello'\n",
        "str2 = \"world\"\n",
        "str3 = '''multiline strings\n",
        "you can print multiple lines here\n",
        "this is so good in pytho .\n",
        "you can go write\n",
        "'''\n",
        "\n",
        "print(str3)\n",
        "# Boolean literals\n",
        "b1 = True\n",
        "b2 = False\n",
        "\n",
        "# Special literals\n",
        "result = None\n"
      ],
      "metadata": {
        "colab": {
          "base_uri": "https://localhost:8080/"
        },
        "id": "MFzp4uBp1Nkr",
        "outputId": "8764b714-5e34-4689-dac2-148e4b372ee1"
      },
      "execution_count": null,
      "outputs": [
        {
          "output_type": "stream",
          "name": "stdout",
          "text": [
            "multiline strings\n",
            "you can print multiple lines here\n",
            "this is so good in pytho .\n",
            "you can go write\n",
            "\n"
          ]
        }
      ]
    },
    {
      "cell_type": "markdown",
      "source": [
        "Thank you\n",
        "\n",
        "Prepared by:pawan joshi\n",
        "\n",
        "email:pjoshi2357@gmail.com"
      ],
      "metadata": {
        "id": "6dedYybFqcF-"
      }
    }
  ]
}