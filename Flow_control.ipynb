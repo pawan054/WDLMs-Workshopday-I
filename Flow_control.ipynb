{
  "nbformat": 4,
  "nbformat_minor": 0,
  "metadata": {
    "colab": {
      "provenance": [],
      "authorship_tag": "ABX9TyOtOIZHNFgvGf9871pXE6XQ",
      "include_colab_link": true
    },
    "kernelspec": {
      "name": "python3",
      "display_name": "Python 3"
    },
    "language_info": {
      "name": "python"
    }
  },
  "cells": [
    {
      "cell_type": "markdown",
      "metadata": {
        "id": "view-in-github",
        "colab_type": "text"
      },
      "source": [
        "<a href=\"https://colab.research.google.com/github/pawan054/WDLMs-Workshopday-I/blob/main/Flow_control.ipynb\" target=\"_parent\"><img src=\"https://colab.research.google.com/assets/colab-badge.svg\" alt=\"Open In Colab\"/></a>"
      ]
    },
    {
      "cell_type": "markdown",
      "source": [
        "#if-statement\n",
        "if statement check the given condition and excute the code inside it when given condition is satiesfied otherwise the program flow forward.\n",
        "let's check following code:"
      ],
      "metadata": {
        "id": "PX_IENJPXh76"
      }
    },
    {
      "cell_type": "markdown",
      "source": [
        "1. checking number"
      ],
      "metadata": {
        "id": "Jl2PFy5qr8Iv"
      }
    },
    {
      "cell_type": "code",
      "execution_count": null,
      "metadata": {
        "colab": {
          "base_uri": "https://localhost:8080/"
        },
        "id": "ttAae9t3XW3h",
        "outputId": "310cb1e6-1828-416c-8758-ec0fc28ee56c"
      },
      "outputs": [
        {
          "output_type": "stream",
          "name": "stdout",
          "text": [
            "Given number is even\n"
          ]
        }
      ],
      "source": [
        "# checking the given as even number\n",
        "num = 10\n",
        "if num % 2 == 0:\n",
        "  print(\"Given number is even\")"
      ]
    },
    {
      "cell_type": "code",
      "execution_count": null,
      "metadata": {
        "id": "AE39qudAaO5W"
      },
      "outputs": [],
      "source": [
        "# checking the given as even number\n",
        "num = 11\n",
        "if num % 2 == 0:\n",
        "  print(\"Given number is even\")"
      ]
    },
    {
      "cell_type": "code",
      "execution_count": null,
      "metadata": {
        "colab": {
          "base_uri": "https://localhost:8080/"
        },
        "outputId": "e6a9e8a0-45e7-45e5-a160-82884c675b75",
        "id": "FARWGPxbaEP7"
      },
      "outputs": [
        {
          "output_type": "stream",
          "name": "stdout",
          "text": [
            "otherwise the number should be other either odd or even or else\n"
          ]
        }
      ],
      "source": [
        "# checking the given as even number\n",
        "num = 11\n",
        "if num % 2 == 0:\n",
        "  print(\"Given number is even\")\n",
        "print(\"otherwise the number should be other either odd or prime or else\")"
      ]
    },
    {
      "cell_type": "markdown",
      "source": [
        "\n",
        "\n",
        "\n",
        "2. Offer on sale   \n"
      ],
      "metadata": {
        "id": "upoUL2yWkt6X"
      }
    },
    {
      "cell_type": "code",
      "source": [
        "discount = 0\n",
        "offer = 10000\n",
        "sale = int(input(\"Enter the amount of your sale: \"))\n",
        "if sale >=offer:\n",
        "  discount = (10/100)*sale\n",
        "  print(\"your discount amount is\",discount)\n",
        "print(\"Total money paid = \", sale-discount)"
      ],
      "metadata": {
        "colab": {
          "base_uri": "https://localhost:8080/"
        },
        "id": "SRvp2JA6cE_O",
        "outputId": "9226e660-5378-4f0e-9a1d-ab26924027aa"
      },
      "execution_count": null,
      "outputs": [
        {
          "output_type": "stream",
          "name": "stdout",
          "text": [
            "Enter the amount of your sale: 5000\n",
            "Total money paid =  5000\n"
          ]
        }
      ]
    },
    {
      "cell_type": "markdown",
      "source": [
        "3. Finding given number as ood"
      ],
      "metadata": {
        "id": "QrT9DYYqlUHC"
      }
    },
    {
      "cell_type": "code",
      "execution_count": null,
      "metadata": {
        "colab": {
          "base_uri": "https://localhost:8080/"
        },
        "outputId": "8f17a4f8-1990-4a69-85a8-cfd608b438f5",
        "id": "vX5vmLhTbMFx"
      },
      "outputs": [
        {
          "output_type": "stream",
          "name": "stdout",
          "text": [
            "Given number is odd\n"
          ]
        }
      ],
      "source": [
        "# checking the given as odd number\n",
        "num = 11\n",
        "if num % 2 != 0:\n",
        "  print(\"Given number is odd\")"
      ]
    },
    {
      "cell_type": "code",
      "execution_count": null,
      "metadata": {
        "colab": {
          "base_uri": "https://localhost:8080/"
        },
        "outputId": "08307c72-fbf3-48cb-8a6e-6de7e380e0be",
        "id": "54FxKuFgbqsZ"
      },
      "outputs": [
        {
          "output_type": "stream",
          "name": "stdout",
          "text": [
            "Given number is odd\n",
            "otherwise the number should be other either even or prime or else\n"
          ]
        }
      ],
      "source": [
        "# checking the given as odd number\n",
        "num = 11\n",
        "if num % 2 != 0:\n",
        "  print(\"Given number is odd\")\n",
        "print(\"otherwise the number should be other either even or prime or else\")"
      ]
    },
    {
      "cell_type": "markdown",
      "source": [
        "#if-else statement."
      ],
      "metadata": {
        "id": "7Bh_dMjRafGN"
      }
    },
    {
      "cell_type": "markdown",
      "source": [
        "1. Checking given number as even or odd"
      ],
      "metadata": {
        "id": "Y4MbBDmylodj"
      }
    },
    {
      "cell_type": "code",
      "source": [
        "#checking given number is even or odd\n",
        "num = int(input(\"Enter a number: \"))\n",
        "if num % 2 ==0:\n",
        "  print(f\"{num} is even number\")\n",
        "else:\n",
        "  print(f\"{num} is odd number\")"
      ],
      "metadata": {
        "colab": {
          "base_uri": "https://localhost:8080/"
        },
        "id": "qMvbd0g-aeZT",
        "outputId": "131324e8-027d-4043-d595-0a2a4b35a723"
      },
      "execution_count": null,
      "outputs": [
        {
          "output_type": "stream",
          "name": "stdout",
          "text": [
            "Enter a number: 3\n",
            "3 is odd number\n"
          ]
        }
      ]
    },
    {
      "cell_type": "markdown",
      "source": [
        "2. Pass or Fail in exam"
      ],
      "metadata": {
        "id": "yP-J_uzDmuaL"
      }
    },
    {
      "cell_type": "code",
      "source": [
        "pm = 50\n",
        "om = 20\n",
        "if om >= pm:\n",
        "  print(\"Congrats,You are passed\")\n",
        "else:\n",
        "  print(\"opps! you are failed\")"
      ],
      "metadata": {
        "colab": {
          "base_uri": "https://localhost:8080/"
        },
        "id": "510qSrUuju17",
        "outputId": "e800ffea-b3d9-42b6-cecc-692ca96abefe"
      },
      "execution_count": null,
      "outputs": [
        {
          "output_type": "stream",
          "name": "stdout",
          "text": [
            "opps! you are failed\n"
          ]
        }
      ]
    },
    {
      "cell_type": "markdown",
      "source": [
        "# Nested if statements"
      ],
      "metadata": {
        "id": "GLFxZK1Nu2kW"
      }
    },
    {
      "cell_type": "markdown",
      "source": [
        "1. finding postive and negative numbers out of two numbers"
      ],
      "metadata": {
        "id": "uccIovuWwz_j"
      }
    },
    {
      "cell_type": "code",
      "source": [
        "#suppose there are two numbers x and y\n",
        "x = float(input(\"Enter the value of x: \"))\n",
        "y = float(input(\"Enter the value of y: \"))\n",
        "if x>0:\n",
        "  print(\"x is positive number\")\n",
        "  if y>0:\n",
        "    print(\"y is also positive number\")\n",
        "  else:\n",
        "    print(\"y is negative number\")\n",
        "else:\n",
        "  print(\"x is negative number\")"
      ],
      "metadata": {
        "colab": {
          "base_uri": "https://localhost:8080/"
        },
        "id": "H5-NCYBlvjVM",
        "outputId": "d2614967-98bf-45b4-b76e-eabcefdce33a"
      },
      "execution_count": null,
      "outputs": [
        {
          "output_type": "stream",
          "name": "stdout",
          "text": [
            "Enter the value of x: 3\n",
            "Enter the value of y: 4\n",
            "x is positive number\n",
            "y is also positive number\n"
          ]
        }
      ]
    },
    {
      "cell_type": "markdown",
      "source": [
        "2. Finding you are eligble to marry or not in Nepal."
      ],
      "metadata": {
        "id": "_9P7lJjgu7zS"
      }
    },
    {
      "cell_type": "code",
      "source": [
        "gender = input(\"Enter your gender either male or female: \")\n",
        "age = int(input(\"Enter your age: \"))\n",
        "if gender == \"male\":\n",
        "  if age >=24:\n",
        "    print(\"You are eligible to marry in Nepal\")\n",
        "  else:\n",
        "    print(\"You are still not allowed to marry in Nepal\")\n",
        "else:\n",
        "  if age >=20:\n",
        "    print(\"you are elgible to mary in Nepal\")\n",
        "  else:\n",
        "    print(\"You are not eligible to marry in Nepal\")]"
      ],
      "metadata": {
        "id": "DCHiBFaPy__L",
        "colab": {
          "base_uri": "https://localhost:8080/"
        },
        "outputId": "13d57d23-e70b-46c4-edf1-c413b1dde7a2"
      },
      "execution_count": null,
      "outputs": [
        {
          "output_type": "stream",
          "name": "stdout",
          "text": [
            "Enter your gender either male or female: male\\\n",
            "Enter your age: 54\n",
            "you are elgible to mary in Nepal\n"
          ]
        }
      ]
    },
    {
      "cell_type": "code",
      "source": [
        "#suppose True for male and False for female\n",
        "gender = input(\"Enter your gender either male or female: \")\n",
        "age = int(input(\"Enter your age: \"))\n",
        "if gender == \"male\" and age >=24:\n",
        "  print('Your are eligible to marry in Nepal')\n",
        "elif gender == \"female\" and age == 20:\n",
        "  print('Your are eligible to marry in Nepal')\n",
        "else:\n",
        "  print('Your are not eligible to marry in Nepal')"
      ],
      "metadata": {
        "id": "2IaW5XWu-rPA"
      },
      "execution_count": null,
      "outputs": []
    },
    {
      "cell_type": "markdown",
      "source": [
        "#if-elif-else statement\n",
        "1. Checking garde"
      ],
      "metadata": {
        "id": "_JK1yb1N3Ejo"
      }
    },
    {
      "cell_type": "code",
      "source": [
        "num = int(input('Enter you mark obtained in physics: '))\n",
        "if num >= 90:\n",
        "  print('your garde is A')\n",
        "elif num >=80:\n",
        "  print('Your garde is A-')\n",
        "elif num >= 70:\n",
        "  print('Your garde is B+')\n",
        "elif num >= 60:\n",
        "  print('Your garde is B')\n",
        "elif num >=50:\n",
        "  print('Your garde is C+')\n",
        "else:\n",
        "  print('Your are failed')"
      ],
      "metadata": {
        "id": "sXN_nSn73JcA",
        "colab": {
          "base_uri": "https://localhost:8080/"
        },
        "outputId": "42e5b106-dfdf-4c66-d6dd-596ddd0c8570"
      },
      "execution_count": null,
      "outputs": [
        {
          "output_type": "stream",
          "name": "stdout",
          "text": [
            "Enter you mark obtained in physics: 30\n",
            "Your are failed\n"
          ]
        }
      ]
    },
    {
      "cell_type": "markdown",
      "source": [
        "2. Finding the taller participants"
      ],
      "metadata": {
        "id": "dZVeE65yu4EA"
      }
    },
    {
      "cell_type": "code",
      "source": [
        "#First take the height of three person.\n",
        "h1 = int(input(\"Tell the height of 1st person:\"))\n",
        "h2 = int(input(\"Tell the height of 2nd person:\"))\n",
        "h3 = int(input(\"Tell the height of 3rd person:\"))\n",
        "if h1==h2:\n",
        "  if h2==h3:\n",
        "    print('All are equally taller')\n",
        "elif h1>h2:\n",
        "  if h1>h3:\n",
        "    print('First person is taller')\n",
        "  else:\n",
        "    print('Third person is taller')\n",
        "elif h2>h3:\n",
        "  print('Second person is taller')\n",
        "else:\n",
        "  print('Third person is taller')"
      ],
      "metadata": {
        "colab": {
          "base_uri": "https://localhost:8080/"
        },
        "id": "Q-7xeB8blvsx",
        "outputId": "626e7b3d-92db-460a-b9ec-1eba127fafda"
      },
      "execution_count": null,
      "outputs": [
        {
          "output_type": "stream",
          "name": "stdout",
          "text": [
            "Tell the height of 1st person:56\n",
            "Tell the height of 2nd person:87\n",
            "Tell the height of 3rd person:99\n",
            "Third person is taller\n"
          ]
        }
      ]
    },
    {
      "cell_type": "code",
      "source": [
        "%%timeit\n",
        "2+4"
      ],
      "metadata": {
        "colab": {
          "base_uri": "https://localhost:8080/"
        },
        "id": "P32vc8333idU",
        "outputId": "41815129-8234-42ea-ec40-4743b94c109c"
      },
      "execution_count": null,
      "outputs": [
        {
          "output_type": "stream",
          "name": "stdout",
          "text": [
            "11.3 ns ± 2.37 ns per loop (mean ± std. dev. of 7 runs, 100000000 loops each)\n"
          ]
        }
      ]
    },
    {
      "cell_type": "markdown",
      "source": [
        "#Shorthand if statements"
      ],
      "metadata": {
        "id": "rVnAsRSi8b-i"
      }
    },
    {
      "cell_type": "code",
      "source": [
        "a='pawan'\n",
        "if a[0]==\"p\": print(\"The zodiac of pawan is Virgo\")\n",
        "b = 'durga'\n",
        "if b[0]==\"d\": print(\"The zodiac of durga is Pisces\")"
      ],
      "metadata": {
        "id": "fynrG0rpJW5e",
        "colab": {
          "base_uri": "https://localhost:8080/"
        },
        "outputId": "5c218f91-d1ce-4b07-b9c4-b08c76f34c4a"
      },
      "execution_count": null,
      "outputs": [
        {
          "output_type": "stream",
          "name": "stdout",
          "text": [
            "The zodiac of pawan is Virgo\n",
            "The zodiac of durga is Pisces\n"
          ]
        }
      ]
    },
    {
      "cell_type": "code",
      "source": [
        "a = 5\n",
        "b = 10\n",
        "print(\"a is bigger\") if a> b else print(\"b is bigger\")"
      ],
      "metadata": {
        "colab": {
          "base_uri": "https://localhost:8080/"
        },
        "id": "8TxmxBcsN6Dh",
        "outputId": "9c218b00-b22f-4a9c-a7bf-60867107ab0d"
      },
      "execution_count": null,
      "outputs": [
        {
          "output_type": "stream",
          "name": "stdout",
          "text": [
            "b is bigger\n"
          ]
        }
      ]
    },
    {
      "cell_type": "code",
      "source": [
        "a = 3\n",
        "print(\"number is even\") if a%2==0 else print(\"number is odd\")"
      ],
      "metadata": {
        "colab": {
          "base_uri": "https://localhost:8080/"
        },
        "id": "33cIidKlTXFX",
        "outputId": "ab96ee60-ab5f-4b50-ef68-2ed2eefce770"
      },
      "execution_count": null,
      "outputs": [
        {
          "output_type": "stream",
          "name": "stdout",
          "text": [
            "number is odd\n"
          ]
        }
      ]
    },
    {
      "cell_type": "code",
      "source": [
        "a = 2\n",
        "b = 1\n",
        "print(\"Ok\") if a>b else print(\"Not Ok\") if a==b else print(\"good\")"
      ],
      "metadata": {
        "colab": {
          "base_uri": "https://localhost:8080/"
        },
        "id": "EeveLJJyUjdr",
        "outputId": "98503377-bab7-48e8-8b42-dd076f214432"
      },
      "execution_count": null,
      "outputs": [
        {
          "output_type": "stream",
          "name": "stdout",
          "text": [
            "Ok\n"
          ]
        }
      ]
    },
    {
      "cell_type": "markdown",
      "source": [
        "#**while loop**"
      ],
      "metadata": {
        "id": "PcIvHyO4-58R"
      }
    },
    {
      "cell_type": "markdown",
      "source": [
        "1. Numbers 1-100"
      ],
      "metadata": {
        "id": "dRrC85Px_P-h"
      }
    },
    {
      "cell_type": "code",
      "source": [
        "num = 1\n",
        "while num <100:\n",
        "  print(num)\n",
        "  num+=1\n",
        "  #print(num)"
      ],
      "metadata": {
        "id": "--c13ij1_Z9B"
      },
      "execution_count": null,
      "outputs": []
    },
    {
      "cell_type": "markdown",
      "source": [
        "2. Physics problem"
      ],
      "metadata": {
        "id": "PaTtkPQ2_as6"
      }
    },
    {
      "cell_type": "code",
      "source": [
        "'''Finding the horizontal range\n",
        " for angles 0-90\n",
        "  printing maximum angle and corrosponding horizontal range'''\n",
        "\n",
        "#import math\n",
        "g = 9.8\n",
        "u = 20\n",
        "angle_deg = 0\n",
        "max_H = 0\n",
        "max_deg = 0\n",
        "\n",
        "while angle_deg <= 90:\n",
        "    angle_rad = math.radians(angle_deg)\n",
        "    H = u**2 * math.sin(2 * angle_rad) / g\n",
        "    print(f\"Angle: {angle_deg}, Horizontal Range = {H}\")\n",
        "    if H > max_H:\n",
        "        max_H = H\n",
        "        max_deg = angle_deg  # Update max_deg when updating max_H\n",
        "    angle_deg += 1\n",
        "\n",
        "print(f\"Maximum horizontal range for maximum angle {max_deg} is {max_H}\")"
      ],
      "metadata": {
        "id": "e7ys__gD_e3s"
      },
      "execution_count": null,
      "outputs": []
    },
    {
      "cell_type": "markdown",
      "source": [
        "#**while - else**"
      ],
      "metadata": {
        "id": "zbUqKOvE_fXX"
      }
    },
    {
      "cell_type": "code",
      "source": [
        "num = 10\n",
        "while num <20:\n",
        "    print(num)\n",
        "    num=num+1\n",
        "    print(\"\\n it is while loop result \\n \")\n",
        "else:\n",
        "    print(\"inside the else\")\n",
        "print(\"Outside the whole loop\")"
      ],
      "metadata": {
        "id": "2a-KCMQX_x1S"
      },
      "execution_count": null,
      "outputs": []
    },
    {
      "cell_type": "markdown",
      "source": [
        "#**for loop**"
      ],
      "metadata": {
        "id": "3KQSbE8D_ywA"
      }
    },
    {
      "cell_type": "markdown",
      "source": [
        "1. 'for' with string"
      ],
      "metadata": {
        "id": "dCMFedB0_83K"
      }
    },
    {
      "cell_type": "code",
      "source": [
        "name = \"pawan\"\n",
        "for index in name:\n",
        "  print(index)"
      ],
      "metadata": {
        "colab": {
          "base_uri": "https://localhost:8080/"
        },
        "id": "xwW5omL3AOvU",
        "outputId": "408153c3-ab13-4ff2-b5e0-2d6b2c8ebfad"
      },
      "execution_count": null,
      "outputs": [
        {
          "output_type": "stream",
          "name": "stdout",
          "text": [
            "p\n",
            "a\n",
            "w\n",
            "a\n",
            "n\n"
          ]
        }
      ]
    },
    {
      "cell_type": "code",
      "source": [
        "name = ['shyam', 'hari', 'nitesh']\n",
        "for x in name :\n",
        "  print(x)"
      ],
      "metadata": {
        "colab": {
          "base_uri": "https://localhost:8080/"
        },
        "id": "oGha6WtoI9P7",
        "outputId": "8a2cdf32-69ca-4422-e7d2-19e5012ae93f"
      },
      "execution_count": null,
      "outputs": [
        {
          "output_type": "stream",
          "name": "stdout",
          "text": [
            "shyam\n",
            "hari\n",
            "nitesh\n"
          ]
        }
      ]
    },
    {
      "cell_type": "code",
      "source": [
        "for x in \"a brown fox quickly jumps over the lazy dog\":\n",
        "  if x  in 'aeiou':\n",
        "    print(x)"
      ],
      "metadata": {
        "id": "eF6QQxr2L9e1"
      },
      "execution_count": null,
      "outputs": []
    },
    {
      "cell_type": "code",
      "source": [
        "for x in \"a brown fox quickly jumps over the lazy dog\":\n",
        "  if x not in 'aeiou':\n",
        "    print(x)"
      ],
      "metadata": {
        "id": "9QX27S1UMYby"
      },
      "execution_count": null,
      "outputs": []
    },
    {
      "cell_type": "markdown",
      "source": [
        "2. 'for' with tuple"
      ],
      "metadata": {
        "id": "X_FrdkXPAPUn"
      }
    },
    {
      "cell_type": "code",
      "source": [
        "num = (0,2,4,6,8,10,12,14,16,18,20)\n",
        "sum = 0\n",
        "for x in num:\n",
        "  print(x)\n",
        "  sum = sum +x\n",
        "print(f\"The sum of above tuple = {sum}\")"
      ],
      "metadata": {
        "id": "sq7eiGxXAX30"
      },
      "execution_count": null,
      "outputs": []
    },
    {
      "cell_type": "markdown",
      "source": [
        "3. 'for' with list"
      ],
      "metadata": {
        "id": "ymc4wcO8AZFh"
      }
    },
    {
      "cell_type": "code",
      "source": [
        "mark = [60,40,80,55,56,90,88]\n",
        "total = 0\n",
        "#print(mark)\n",
        "for x in mark:\n",
        "  #print(x)\n",
        "  total = total + x\n",
        "  percentage = (total)*100/700\n",
        "print(f\"His total marks obtained in final exam is {total} \\n and percentage is {percentage} %\")"
      ],
      "metadata": {
        "colab": {
          "base_uri": "https://localhost:8080/"
        },
        "id": "hSOhzSpLAduo",
        "outputId": "1071170d-5fb1-45d5-e3a7-1b9167f918b6"
      },
      "execution_count": null,
      "outputs": [
        {
          "output_type": "stream",
          "name": "stdout",
          "text": [
            "His total marks obtained in final exam is 469 \n",
            " and percentage is 67.0 %\n"
          ]
        }
      ]
    },
    {
      "cell_type": "markdown",
      "source": [
        "4. 'for' with range()\n",
        "**syntax**\n",
        "\n",
        "  for in range(statrt,stop,step)\n",
        "  by default, start = 0, stop = last_term -1, step = 1"
      ],
      "metadata": {
        "id": "Pk9SWZf0OTQk"
      }
    },
    {
      "cell_type": "code",
      "source": [
        "num = range(10)\n",
        "print(num)\n",
        "print(list(num))\n",
        "#for x in num:\n",
        " # print(x)"
      ],
      "metadata": {
        "id": "WqejTj5bOX9E",
        "colab": {
          "base_uri": "https://localhost:8080/"
        },
        "outputId": "69886027-67b7-4f09-efbc-26b9f99a0669"
      },
      "execution_count": null,
      "outputs": [
        {
          "output_type": "stream",
          "name": "stdout",
          "text": [
            "range(0, 10)\n",
            "[0, 1, 2, 3, 4, 5, 6, 7, 8, 9]\n"
          ]
        }
      ]
    },
    {
      "cell_type": "code",
      "source": [
        "for x in range(11):\n",
        "  print(x)\n",
        "  #print(x, end ='')\n",
        "#print()\n",
        "for x in range(1,11):\n",
        "  print(x)\n",
        "  #print(x, end='')"
      ],
      "metadata": {
        "colab": {
          "base_uri": "https://localhost:8080/"
        },
        "id": "MHEWF0ATv0RI",
        "outputId": "ca575fc2-c7e4-4af4-c93f-cb2b808890c9"
      },
      "execution_count": null,
      "outputs": [
        {
          "output_type": "stream",
          "name": "stdout",
          "text": [
            "012345678910\n",
            "12345678910"
          ]
        }
      ]
    },
    {
      "cell_type": "code",
      "source": [
        "# Lets find the factorial using for loop\n",
        "num = int(input(\"Enter a number: \"))\n",
        "factorial = 1\n",
        "for x in range(1,num+1):\n",
        "  factorial = factorial*x\n",
        "print(factorial)"
      ],
      "metadata": {
        "colab": {
          "base_uri": "https://localhost:8080/"
        },
        "id": "wtuMuaF5xWJA",
        "outputId": "742b09a1-d21b-46a3-cf17-da5f132c842e"
      },
      "execution_count": null,
      "outputs": [
        {
          "output_type": "stream",
          "name": "stdout",
          "text": [
            "Enter a number: 4\n",
            "24\n"
          ]
        }
      ]
    },
    {
      "cell_type": "code",
      "source": [
        "#working with sequence\n",
        "sequence = [2,3,4,5,6,7,8,9]\n",
        "index = range(len(sequence))\n",
        "print(sequence)\n",
        "#print(index)\n",
        "for x in index:\n",
        "  #print(sequence[x])\n",
        "  print(\"item: \",x, \"number: \",sequence[x])"
      ],
      "metadata": {
        "colab": {
          "base_uri": "https://localhost:8080/"
        },
        "id": "dDO654SuyHsU",
        "outputId": "fab86a37-2d07-45b7-8afa-035cc51a20a9"
      },
      "execution_count": null,
      "outputs": [
        {
          "output_type": "stream",
          "name": "stdout",
          "text": [
            "[2, 3, 4, 5, 6, 7, 8, 9]\n",
            "item:  0 number:  2\n",
            "item:  1 number:  3\n",
            "item:  2 number:  4\n",
            "item:  3 number:  5\n",
            "item:  4 number:  6\n",
            "item:  5 number:  7\n",
            "item:  6 number:  8\n",
            "item:  7 number:  9\n"
          ]
        }
      ]
    },
    {
      "cell_type": "code",
      "source": [
        "for num in range(5):\n",
        "  #print(\"My name is perry\",num)\n",
        "  print(\"My name is perry\",num+1)"
      ],
      "metadata": {
        "id": "f0pMF9Ic3gz-"
      },
      "execution_count": null,
      "outputs": []
    },
    {
      "cell_type": "code",
      "source": [
        "#let see beauty of for loop in python\n",
        "print(\"your time starts:\", end='')\n",
        "for i in range(10,0,-1):\n",
        "  print(\"\\r your left time:\",i, end='')\n",
        "  time.sleep(1)\n",
        "print(\"\\r Your time is off\")"
      ],
      "metadata": {
        "colab": {
          "base_uri": "https://localhost:8080/"
        },
        "id": "g2DqW3XV6t1i",
        "outputId": "3f7c2619-ee27-4867-89b9-1307e511733d"
      },
      "execution_count": null,
      "outputs": [
        {
          "output_type": "stream",
          "name": "stdout",
          "text": [
            " Your time is off\n"
          ]
        }
      ]
    },
    {
      "cell_type": "markdown",
      "source": [
        "#**for-else loop**\n",
        "'''\n",
        "Python supports else statement associated with for loop statement.\n",
        "The else loop is executed if for loop is exhausted before going to main body of execution of code.\n",
        "'''\n"
      ],
      "metadata": {
        "id": "X-YtEmv3DRyX"
      }
    },
    {
      "cell_type": "code",
      "source": [
        "\n",
        "for num in range(10):\n",
        "  print(f\"inside for loop with number : {num+1}\")\n",
        "else:\n",
        "  print(f\"his is else loop\")\n",
        "print(\"Main body of program i.e outside the loop\")"
      ],
      "metadata": {
        "colab": {
          "base_uri": "https://localhost:8080/"
        },
        "id": "QXEGxjPFDbB7",
        "outputId": "31294a03-5697-45e9-ec2d-879cf59fad3f"
      },
      "execution_count": null,
      "outputs": [
        {
          "output_type": "stream",
          "name": "stdout",
          "text": [
            "inside for loop with number : 1\n",
            "inside for loop with number : 2\n",
            "inside for loop with number : 3\n",
            "inside for loop with number : 4\n",
            "inside for loop with number : 5\n",
            "inside for loop with number : 6\n",
            "inside for loop with number : 7\n",
            "inside for loop with number : 8\n",
            "inside for loop with number : 9\n",
            "inside for loop with number : 10\n",
            "his is else loop\n",
            "Main body of program i.e outside the loop\n"
          ]
        }
      ]
    },
    {
      "cell_type": "markdown",
      "source": [
        "#**Nested loop**\n",
        "Pyhton allows you to use one loop inside another loop. Examples:"
      ],
      "metadata": {
        "id": "9Ys-1eaDAtqV"
      }
    },
    {
      "cell_type": "code",
      "source": [
        "for i in range(10):\n",
        "  for j in range(0,10):\n",
        "    #print(f\"({i},{j})\")\n",
        "    k = i*j\n",
        "    print(\"{:4d}\".format(k),end='')\n",
        "  print()"
      ],
      "metadata": {
        "colab": {
          "base_uri": "https://localhost:8080/"
        },
        "id": "0kyUFHVU4jyC",
        "outputId": "ca0f552a-f0d5-4b4c-af35-f8e270cb438e"
      },
      "execution_count": null,
      "outputs": [
        {
          "output_type": "stream",
          "name": "stdout",
          "text": [
            "   0   0   0   0   0   0   0   0   0   0\n",
            "   0   1   2   3   4   5   6   7   8   9\n",
            "   0   2   4   6   8  10  12  14  16  18\n",
            "   0   3   6   9  12  15  18  21  24  27\n",
            "   0   4   8  12  16  20  24  28  32  36\n",
            "   0   5  10  15  20  25  30  35  40  45\n",
            "   0   6  12  18  24  30  36  42  48  54\n",
            "   0   7  14  21  28  35  42  49  56  63\n",
            "   0   8  16  24  32  40  48  56  64  72\n",
            "   0   9  18  27  36  45  54  63  72  81\n"
          ]
        }
      ]
    },
    {
      "cell_type": "code",
      "source": [
        "#Findig the cartesian product of two set:\n",
        "set_A = [2,3]\n",
        "set_B= [1,2,4]\n",
        "for i in range(len(set_A)):\n",
        "  for j in range(len(set_B)):\n",
        "    print(f\"{set_A[i]},{set_B[j]}\")"
      ],
      "metadata": {
        "colab": {
          "base_uri": "https://localhost:8080/"
        },
        "id": "ODINWZmAARst",
        "outputId": "aa31b0db-ca86-4c1b-8b28-74a79258d026"
      },
      "execution_count": null,
      "outputs": [
        {
          "output_type": "stream",
          "name": "stdout",
          "text": [
            "2,1\n",
            "2,2\n",
            "2,4\n",
            "3,1\n",
            "3,2\n",
            "3,4\n"
          ]
        }
      ]
    },
    {
      "cell_type": "code",
      "source": [
        "# prompt: code to print cartesian product of two set {2,3} and (1,3,4}\n",
        "\n",
        "set_A = {2,3}\n",
        "set_B = {1,3,4}\n",
        "for i in set_A:\n",
        "  for j in set_B:\n",
        "    print(f\"({i},{j})\")\n"
      ],
      "metadata": {
        "colab": {
          "base_uri": "https://localhost:8080/"
        },
        "id": "3BhKrX4lB5iV",
        "outputId": "b89580fe-578a-416b-85ed-bea403d95d4c"
      },
      "execution_count": null,
      "outputs": [
        {
          "output_type": "stream",
          "name": "stdout",
          "text": [
            "(2,1)\n",
            "(2,3)\n",
            "(2,4)\n",
            "(3,1)\n",
            "(3,3)\n",
            "(3,4)\n"
          ]
        }
      ]
    },
    {
      "cell_type": "code",
      "source": [
        "#printing  numbers from 20 to 25\n",
        "num = 20\n",
        "while num<=25:\n",
        "  even = 22\n",
        "  while even <=24:\n",
        "    print(even)\n",
        "    even+=1\n",
        "  num+=2"
      ],
      "metadata": {
        "id": "rjYmxLFEAzLv",
        "colab": {
          "base_uri": "https://localhost:8080/"
        },
        "outputId": "58166470-6576-467c-b057-c2fa97335f1d"
      },
      "execution_count": null,
      "outputs": [
        {
          "output_type": "stream",
          "name": "stdout",
          "text": [
            "22\n",
            "23\n",
            "24\n",
            "22\n",
            "23\n",
            "24\n",
            "22\n",
            "23\n",
            "24\n"
          ]
        }
      ]
    },
    {
      "cell_type": "code",
      "source": [
        "# prompt: exmaple of nested while loop\n",
        "\n",
        "i = 1\n",
        "while i <= 3:\n",
        "    j = 1\n",
        "    while j <= 3:\n",
        "        print(f\"i = {i}, j = {j}\")\n",
        "        j += 1\n",
        "    i += 1\n"
      ],
      "metadata": {
        "colab": {
          "base_uri": "https://localhost:8080/"
        },
        "id": "Bm94R3d1P3Xq",
        "outputId": "756e6e5b-01d6-4c1b-80e9-fcb693323fcf"
      },
      "execution_count": null,
      "outputs": [
        {
          "output_type": "stream",
          "name": "stdout",
          "text": [
            "i = 1, j = 1\n",
            "i = 1, j = 2\n",
            "i = 1, j = 3\n",
            "i = 2, j = 1\n",
            "i = 2, j = 2\n",
            "i = 2, j = 3\n",
            "i = 3, j = 1\n",
            "i = 3, j = 2\n",
            "i = 3, j = 3\n"
          ]
        }
      ]
    },
    {
      "cell_type": "markdown",
      "source": [
        "#'break' statement"
      ],
      "metadata": {
        "id": "qh6rBvyu8oK9"
      }
    },
    {
      "cell_type": "code",
      "source": [
        "i = 1\n",
        "while i <=20:\n",
        "  print(i)\n",
        "  if i==10:\n",
        "    break\n",
        "  i=i+1"
      ],
      "metadata": {
        "id": "uZ8iyFwZgYLd"
      },
      "execution_count": null,
      "outputs": []
    },
    {
      "cell_type": "code",
      "source": [
        "salary = 5000\n",
        "while salary <= 20000:\n",
        "  print(salary)\n",
        "  if salary >= 15000:\n",
        "    break\n",
        "  salary = salary+2000"
      ],
      "metadata": {
        "colab": {
          "base_uri": "https://localhost:8080/"
        },
        "id": "niGmnKs5UgdO",
        "outputId": "17fdec8d-691f-4490-c27e-5beceaad97f0"
      },
      "execution_count": null,
      "outputs": [
        {
          "output_type": "stream",
          "name": "stdout",
          "text": [
            "5000\n",
            "7000\n",
            "9000\n",
            "11000\n",
            "13000\n",
            "15000\n"
          ]
        }
      ]
    },
    {
      "cell_type": "markdown",
      "source": [
        "#'continue' statement"
      ],
      "metadata": {
        "id": "AmfY28on-Xm6"
      }
    },
    {
      "cell_type": "code",
      "source": [
        "for letter in 'xyzabc':\n",
        "  if letter == 'z':\n",
        "    continue\n",
        "  print(letter)\n",
        "#for num in range(10,22):\n",
        " # if num == 20:\n",
        "    continue\n",
        "  print(\"good num\",num)\n"
      ],
      "metadata": {
        "id": "fICZVNmF-dm8",
        "colab": {
          "base_uri": "https://localhost:8080/"
        },
        "outputId": "6ed96e30-7036-48ec-96ef-50990a16e23d"
      },
      "execution_count": null,
      "outputs": [
        {
          "output_type": "stream",
          "name": "stdout",
          "text": [
            "x\n",
            "y\n",
            "a\n",
            "b\n",
            "c\n",
            "good num 10\n",
            "good num 11\n",
            "good num 12\n",
            "good num 13\n",
            "good num 14\n",
            "good num 15\n",
            "good num 16\n",
            "good num 17\n",
            "good num 18\n",
            "good num 19\n",
            "good num 21\n"
          ]
        }
      ]
    },
    {
      "cell_type": "code",
      "source": [
        "i = 1\n",
        "while i <=20:\n",
        "  print(i)\n",
        "  if i!=10:\n",
        "    continue\n",
        "  i=i+1"
      ],
      "metadata": {
        "id": "faaHtkizTJRp"
      },
      "execution_count": null,
      "outputs": []
    },
    {
      "cell_type": "markdown",
      "source": [
        "#'pass' statement"
      ],
      "metadata": {
        "id": "LFTFWm5K-iNd"
      }
    },
    {
      "cell_type": "code",
      "source": [
        "num = int(input(\"Enter your score: \"))\n",
        "if num >=90:\n",
        "  print(\"I will join CDP\")\n",
        "else:\n",
        "  pass\n"
      ],
      "metadata": {
        "id": "DKHgIlK5-fT0",
        "colab": {
          "base_uri": "https://localhost:8080/"
        },
        "outputId": "2359f8bd-834a-420e-bd31-0b73ed6fb990"
      },
      "execution_count": null,
      "outputs": [
        {
          "name": "stdout",
          "output_type": "stream",
          "text": [
            "Enter your score: 88\n"
          ]
        }
      ]
    },
    {
      "cell_type": "code",
      "source": [
        "sale=['a','b','c','d','e']\n",
        "for k in sale:\n",
        "    if k == 'c':\n",
        "        pass\n",
        "    else:\n",
        "        print(k)\n",
        "#print(\"loop is passed\")"
      ],
      "metadata": {
        "id": "Uj_dOXeQyVDc",
        "colab": {
          "base_uri": "https://localhost:8080/"
        },
        "outputId": "b08ab61a-03d0-4c96-97bd-c7514c1c62e0"
      },
      "execution_count": null,
      "outputs": [
        {
          "output_type": "stream",
          "name": "stdout",
          "text": [
            "a\n",
            "b\n",
            "d\n",
            "e\n"
          ]
        }
      ]
    }
  ]
}